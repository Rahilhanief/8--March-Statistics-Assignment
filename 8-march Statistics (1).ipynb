{
 "cells": [
  {
   "cell_type": "code",
   "execution_count": null,
   "id": "0995e476-c340-4f43-b24b-a80257f70751",
   "metadata": {},
   "outputs": [],
   "source": [
    "## Q No. 1 :\n",
    "#  A probability density function (PDF) is used to define the random variable's probability coming within a distinct range of values,as opposed to taking on any one value."
   ]
  },
  {
   "cell_type": "code",
   "execution_count": 1,
   "id": "476cf3b7-3a7a-4339-8151-837886e25dfd",
   "metadata": {},
   "outputs": [
    {
     "data": {
      "text/plain": [
       "' Types of probability distribution\\n1. Normal or gaussian distribution\\n2. Bernoulli distribution\\n3. Uniform distribution\\n4. Poisson distribution\\n5. log normal distribution\\n6. Binomial distribution '"
      ]
     },
     "execution_count": 1,
     "metadata": {},
     "output_type": "execute_result"
    }
   ],
   "source": [
    "## Q No. 2 :\n",
    "\"\"\" Types of probability distribution\n",
    "1. Normal or gaussian distribution\n",
    "2. Bernoulli distribution\n",
    "3. Uniform distribution\n",
    "4. Poisson distribution\n",
    "5. log normal distribution\n",
    "6. Binomial distribution \"\"\""
   ]
  },
  {
   "cell_type": "code",
   "execution_count": 25,
   "id": "f60e53e4-a34c-4599-85aa-21210a4f2fdb",
   "metadata": {},
   "outputs": [],
   "source": [
    "## Q No. 3 :\n",
    "\"\"\"Suppose we have data of the heights of adults in a town and the data follows a normal distribution,\n",
    "we have a sufficient sample size with mean equals 5.3 and the standard deviation is 1.\n",
    "\n",
    "This information is sufficient to make a normal curve.\"\"\"\n",
    "\n",
    "# import required libraries\n",
    "from scipy.stats import norm\n",
    "import numpy as np\n",
    " \n",
    "# Creating the distribution\n",
    "data = np.arange(1,10,0.01)\n",
    "pdf = norm.pdf(data , loc = 5.3 , scale = 1 )"
   ]
  },
  {
   "cell_type": "code",
   "execution_count": null,
   "id": "7fb6c53b-ff5f-4a60-b368-ce6e64244c70",
   "metadata": {},
   "outputs": [],
   "source": [
    "## Q No. 4 :\n",
    "PROPERTIES OF BINOMIAL DISTRIBUTION\n",
    "\n",
    "1. Binomial distribution is applicable when the trials are independent and each trial has just two outcomes success and failure.\n",
    "\n",
    "It is applied in coin tossing experiments, sampling inspection plan, genetic experiments and so on.\n",
    "\n",
    "2. Binomial distribution is known as bi-parametric distribution as it is characterized by two parameters n and p.\n",
    "This means that if the values of n and p are known, then the distribution is known completely.\n",
    "\n",
    "3. The mean of the binomial distribution is given by \n",
    "\n",
    "μ = np\n",
    "\n",
    "\n",
    "Solving Problems Using the Properties of Binomial Distribution\n",
    "Problem 1 :\n",
    "\n",
    "Find the binomial distribution for which mean and standard deviation are 6 and 4 respectively.\n",
    "\n",
    "Solution :\n",
    "\n",
    "Mean = 6 ----> np = 6 ----(1)\n",
    "\n",
    "Standard deviation  =  2\n",
    "\n",
    "Then, variance  =  4 ----> npq  =  4 ------(2)\n",
    "\n",
    "Dividing (2) by (1), we get q  =  2/3. \n",
    "\n",
    "And we know that p  =  1 - q\n",
    "\n",
    "Thus, we get  p  =  1/3\n",
    "\n",
    "Plugging p  =  1/3 in (1), we get \n",
    "\n",
    "n x 1/3  =  6 \n",
    "\n",
    "n  =  18\n",
    "\n",
    "Now, we know the values of n, p and q. \n",
    "\n",
    "Therefore, the required binomial distribution is given by\n",
    "\n",
    "f(x) = ncx ⋅ px ⋅ qn-x\n",
    "\n",
    "= 18cx ⋅ (1/3)x ⋅ (2/3)n-x\n",
    "\n",
    "for x = 0, 1, 2, 3, ......, 18.\n",
    "\n",
    "Problem 2 :\n",
    "\n",
    "What is the mode of the distribution for which mean and variance are 10 and 5 respectively.\n",
    "\n",
    "Solution :\n",
    "\n",
    "Mean = 10 ----> np = 10 ----(1)\n",
    "\n",
    "Variance = 5 ----> npq = 5 ----(2)\n",
    "\n",
    "Dividing (2) by (1),\n",
    "\n",
    "q = 1/2\n",
    "\n",
    "And we know that p = 1 - q. Thus, we get  p = 1/2.\n",
    "\n",
    "Substitute p = 1/2 in (1).\n",
    "\n",
    "n x 1/2 = 10 \n",
    "\n",
    "n = 20\n",
    "\n",
    "To know the mode of a binomial distribution, first we have to know the value of (n + 1)p. \n",
    "\n",
    "(n + 1)p = (20 + 1) x 1/2 = 10.5\n",
    "\n",
    "Since the value of (n + 1)p is a non integer, the given binomial distribution is uni-modal.\n",
    "\n",
    "Hence mode = Largest integer contained in (n + 1)p\n",
    "\n",
    "= Largest integer contained in (20 + 1) x 1/2\n",
    "\n",
    "= Largest integer contained in 10.50\n",
    "\n",
    "= 10\n",
    "\n"
   ]
  },
  {
   "cell_type": "code",
   "execution_count": 7,
   "id": "b90f50aa-fa8b-46bb-8e8c-258224441bdd",
   "metadata": {},
   "outputs": [
    {
     "data": {
      "text/plain": [
       "'from scipy.stats import binom\\nimport matplotlib.pyplot as plt\\n# setting the values\\n# of n and p\\nn = 6\\np = 0.4\\n# defining list of r values\\nr_values = list(range(n + 1))\\n# list of pmf values\\ndist = [binom.pmf(r, n, p) for r in r_values ]\\n# plotting the graph \\nplt.hist(r_values, dist)\\nplt.show()'"
      ]
     },
     "execution_count": 7,
     "metadata": {},
     "output_type": "execute_result"
    }
   ],
   "source": [
    "## Q No. 5:\n",
    "\"\"\"from scipy.stats import binom\n",
    "import matplotlib.pyplot as plt\n",
    "# setting the values\n",
    "# of n and p\n",
    "n = 6\n",
    "p = 0.4\n",
    "# defining list of r values\n",
    "r_values = list(range(n + 1))\n",
    "# list of pmf values\n",
    "dist = [binom.pmf(r, n, p) for r in r_values ]\n",
    "# plotting the graph \n",
    "plt.hist(r_values, dist)\n",
    "plt.show()\"\"\""
   ]
  },
  {
   "cell_type": "code",
   "execution_count": 52,
   "id": "cfab122b-1b8f-4fe3-b4c2-dd161e619db8",
   "metadata": {},
   "outputs": [
    {
     "name": "stdout",
     "output_type": "stream",
     "text": [
      "[ 0  1  2  3  4  5  6  7  8  9 10 11 12 13 14 15 16]\n",
      "[0.001 0.007 0.03  0.082 0.173 0.301 0.45  0.599 0.729 0.83  0.901 0.947\n",
      " 0.973 0.987 0.994 0.998 0.999]\n"
     ]
    }
   ],
   "source": [
    "## Q No. 6:\n",
    "'''In order to calculate the Poisson CDF using Python, we will use the .cdf() method of the scipy.poisson generator. It will need two parameters:\n",
    "k value (the k array that we created)\n",
    "μ value (which we will set to 7)\n",
    "And now we can create an array with Poisson cumulative probability values:'''\n",
    "from scipy.stats import poisson\n",
    "k = np.arange(0, 17)\n",
    "\n",
    "print(k)\n",
    "cdf = poisson.cdf(k, mu=7)\n",
    "cdf = np.round(cdf, 3)\n",
    "\n",
    "print(cdf)\n"
   ]
  },
  {
   "cell_type": "code",
   "execution_count": 53,
   "id": "ff87d74b-3788-4e1b-b2bd-7c354289dcb5",
   "metadata": {},
   "outputs": [
    {
     "data": {
      "text/plain": [
       "'Binomial distribution describes the distribution of binary data from a finite sample.\\nThus it gives the probability of getting r events out of n trials.\\nPoisson distribution describes the distribution of binary data from an infinite sample.\\nThus it gives the probability of getting r events in a population.'"
      ]
     },
     "execution_count": 53,
     "metadata": {},
     "output_type": "execute_result"
    }
   ],
   "source": [
    "## Q No. 7 :\n",
    "\"\"\"Binomial distribution describes the distribution of binary data from a finite sample.\n",
    "Thus it gives the probability of getting r events out of n trials.\n",
    "Poisson distribution describes the distribution of binary data from an infinite sample.\n",
    "Thus it gives the probability of getting r events in a population.\"\"\""
   ]
  },
  {
   "cell_type": "code",
   "execution_count": 9,
   "id": "b3473df9-583a-4778-90fd-1e47163cea42",
   "metadata": {},
   "outputs": [],
   "source": [
    "## Q No. 8 :\n",
    "import numpy\n",
    "s =numpy.random.poisson(5,1000)"
   ]
  },
  {
   "cell_type": "code",
   "execution_count": 11,
   "id": "9a91e2f4-ac16-4248-afa6-cdeb0c1c5d07",
   "metadata": {},
   "outputs": [
    {
     "data": {
      "text/plain": [
       "4.993"
      ]
     },
     "execution_count": 11,
     "metadata": {},
     "output_type": "execute_result"
    }
   ],
   "source": [
    "s.mean()"
   ]
  },
  {
   "cell_type": "code",
   "execution_count": 12,
   "id": "d0187c69-b022-433a-9d58-2150a7e40942",
   "metadata": {},
   "outputs": [
    {
     "data": {
      "text/plain": [
       "4.860950999999999"
      ]
     },
     "execution_count": 12,
     "metadata": {},
     "output_type": "execute_result"
    }
   ],
   "source": [
    "s.var()"
   ]
  },
  {
   "cell_type": "code",
   "execution_count": 1,
   "id": "8e36a642-6bfe-486b-9924-d890cc1aff2b",
   "metadata": {},
   "outputs": [
    {
     "data": {
      "text/plain": [
       "'\\nThe mean of a binomial distribution is np and variance is npq.\\nAs both n and p are positive, we can divide both sides by np.\\nSo, the mean of a binomial distribution cannot be less than its variance.\\n\\nThe mean and the variance of the Poisson distribution are the same,\\nwhich is equal to the average number of successes that occur in the given interval of time.\\n'"
      ]
     },
     "execution_count": 1,
     "metadata": {},
     "output_type": "execute_result"
    }
   ],
   "source": [
    "## Q No. 9 :\n",
    "\"\"\"\n",
    "The mean of a binomial distribution is np and variance is npq.\n",
    "As both n and p are positive, we can divide both sides by np.\n",
    "So, the mean of a binomial distribution cannot be less than its variance.\n",
    "\n",
    "The mean and the variance of the Poisson distribution are the same,\n",
    "which is equal to the average number of successes that occur in the given interval of time.\n",
    "\"\"\""
   ]
  },
  {
   "cell_type": "code",
   "execution_count": null,
   "id": "dff6ec50-3cf7-4658-a801-e732f8febc34",
   "metadata": {},
   "outputs": [],
   "source": [
    "## Q No. 10 :\n",
    "# In Normal distribution least data is seen at the ends and most data is near the mean.\n"
   ]
  },
  {
   "cell_type": "code",
   "execution_count": null,
   "id": "f2c4242d-e86c-422a-ae73-11d66e41cb1c",
   "metadata": {},
   "outputs": [],
   "source": []
  },
  {
   "cell_type": "code",
   "execution_count": null,
   "id": "89b6f8ba-711e-48d7-832a-9d8e1974c63d",
   "metadata": {},
   "outputs": [],
   "source": []
  },
  {
   "cell_type": "code",
   "execution_count": null,
   "id": "ec0631f1-2217-499b-9c82-b4654fa4e8e9",
   "metadata": {},
   "outputs": [],
   "source": []
  },
  {
   "cell_type": "code",
   "execution_count": null,
   "id": "7589c58e-5456-4620-9cf9-4a7ba70010c6",
   "metadata": {},
   "outputs": [],
   "source": []
  }
 ],
 "metadata": {
  "kernelspec": {
   "display_name": "Python 3 (ipykernel)",
   "language": "python",
   "name": "python3"
  },
  "language_info": {
   "codemirror_mode": {
    "name": "ipython",
    "version": 3
   },
   "file_extension": ".py",
   "mimetype": "text/x-python",
   "name": "python",
   "nbconvert_exporter": "python",
   "pygments_lexer": "ipython3",
   "version": "3.10.8"
  }
 },
 "nbformat": 4,
 "nbformat_minor": 5
}
